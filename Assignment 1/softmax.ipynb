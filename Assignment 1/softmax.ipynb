{
 "cells": [
  {
   "cell_type": "markdown",
   "metadata": {},
   "source": [
    "# Softmax exercise\n",
    "\n",
    "*Complete and hand in this completed worksheet (including its outputs and any supporting code outside of the worksheet) with your assignment submission. For more details see the [assignments page](https://compsci682.github.io/assignments.html) on the course website.*\n",
    "\n",
    "This exercise is analogous to the SVM exercise. You will:\n",
    "\n",
    "- implement a fully-vectorized **loss function** for the Softmax classifier\n",
    "- implement the fully-vectorized expression for its **analytic gradient**\n",
    "- **check your implementation** with numerical gradient\n",
    "- use a validation set to **tune the learning rate and regularization** strength\n",
    "- **optimize** the loss function with **SGD**\n",
    "- **visualize** the final learned weights\n"
   ]
  },
  {
   "cell_type": "code",
   "execution_count": 1,
   "metadata": {
    "collapsed": true
   },
   "outputs": [],
   "source": [
    "import random\n",
    "import numpy as np\n",
    "from asgn1.data_utils import load_CIFAR10\n",
    "import matplotlib.pyplot as plt\n",
    "%matplotlib inline\n",
    "plt.rcParams['figure.figsize'] = (10.0, 8.0) # set default size of plots\n",
    "plt.rcParams['image.interpolation'] = 'nearest'\n",
    "plt.rcParams['image.cmap'] = 'gray'\n",
    "\n",
    "# for auto-reloading extenrnal modules\n",
    "# see http://stackoverflow.com/questions/1907993/autoreload-of-modules-in-ipython\n",
    "%load_ext autoreload\n",
    "%autoreload 2"
   ]
  },
  {
   "cell_type": "code",
   "execution_count": 2,
   "metadata": {},
   "outputs": [
    {
     "name": "stdout",
     "output_type": "stream",
     "text": [
      "Train data shape:  (49000L, 3073L)\n",
      "Train labels shape:  (49000L,)\n",
      "Validation data shape:  (1000L, 3073L)\n",
      "Validation labels shape:  (1000L,)\n",
      "Test data shape:  (1000L, 3073L)\n",
      "Test labels shape:  (1000L,)\n",
      "dev data shape:  (500L, 3073L)\n",
      "dev labels shape:  (500L,)\n"
     ]
    }
   ],
   "source": [
    "def get_CIFAR10_data(num_training=49000, num_validation=1000, num_test=1000, num_dev=500):\n",
    "  \"\"\"\n",
    "  Load the CIFAR-10 dataset from disk and perform preprocessing to prepare\n",
    "  it for the linear classifier. These are the same steps as we used for the\n",
    "  SVM, but condensed to a single function.  \n",
    "  \"\"\"\n",
    "  # Load the raw CIFAR-10 data\n",
    "  cifar10_dir = 'datasets/cifar-10-batches-py'\n",
    "  X_train, y_train, X_test, y_test = load_CIFAR10(cifar10_dir)\n",
    "  \n",
    "  # subsample the data\n",
    "  mask = range(num_training, num_training + num_validation)\n",
    "  X_val = X_train[mask]\n",
    "  y_val = y_train[mask]\n",
    "  mask = range(num_training)\n",
    "  X_train = X_train[mask]\n",
    "  y_train = y_train[mask]\n",
    "  mask = range(num_test)\n",
    "  X_test = X_test[mask]\n",
    "  y_test = y_test[mask]\n",
    "  mask = np.random.choice(num_training, num_dev, replace=False)\n",
    "  X_dev = X_train[mask]\n",
    "  y_dev = y_train[mask]\n",
    "  \n",
    "  # Preprocessing: reshape the image data into rows\n",
    "  X_train = np.reshape(X_train, (X_train.shape[0], -1))\n",
    "  X_val = np.reshape(X_val, (X_val.shape[0], -1))\n",
    "  X_test = np.reshape(X_test, (X_test.shape[0], -1))\n",
    "  X_dev = np.reshape(X_dev, (X_dev.shape[0], -1))\n",
    "  \n",
    "  # Normalize the data: subtract the mean image\n",
    "  mean_image = np.mean(X_train, axis = 0)\n",
    "  X_train -= mean_image\n",
    "  X_val -= mean_image\n",
    "  X_test -= mean_image\n",
    "  X_dev -= mean_image\n",
    "  \n",
    "  # add bias dimension and transform into columns\n",
    "  X_train = np.hstack([X_train, np.ones((X_train.shape[0], 1))])\n",
    "  X_val = np.hstack([X_val, np.ones((X_val.shape[0], 1))])\n",
    "  X_test = np.hstack([X_test, np.ones((X_test.shape[0], 1))])\n",
    "  X_dev = np.hstack([X_dev, np.ones((X_dev.shape[0], 1))])\n",
    "  \n",
    "  return X_train, y_train, X_val, y_val, X_test, y_test, X_dev, y_dev\n",
    "\n",
    "\n",
    "# Invoke the above function to get our data.\n",
    "X_train, y_train, X_val, y_val, X_test, y_test, X_dev, y_dev = get_CIFAR10_data()\n",
    "print 'Train data shape: ', X_train.shape\n",
    "print 'Train labels shape: ', y_train.shape\n",
    "print 'Validation data shape: ', X_val.shape\n",
    "print 'Validation labels shape: ', y_val.shape\n",
    "print 'Test data shape: ', X_test.shape\n",
    "print 'Test labels shape: ', y_test.shape\n",
    "print 'dev data shape: ', X_dev.shape\n",
    "print 'dev labels shape: ', y_dev.shape"
   ]
  },
  {
   "cell_type": "markdown",
   "metadata": {},
   "source": [
    "## Softmax Classifier\n",
    "\n",
    "Your code for this section will all be written inside **asgn1/classifiers/softmax.py**. \n"
   ]
  },
  {
   "cell_type": "code",
   "execution_count": 3,
   "metadata": {},
   "outputs": [
    {
     "name": "stdout",
     "output_type": "stream",
     "text": [
      "loss: 2.365420\n",
      "sanity check: 2.302585\n"
     ]
    }
   ],
   "source": [
    "# First implement the naive softmax loss function with nested loops.\n",
    "# Open the file asgn1/classifiers/softmax.py and implement the\n",
    "# softmax_loss_naive function.\n",
    "\n",
    "from asgn1.classifiers.softmax import softmax_loss_naive\n",
    "import time\n",
    "\n",
    "# Generate a random softmax weight matrix and use it to compute the loss.\n",
    "W = np.random.randn(3073, 10) * 0.0001\n",
    "loss, grad = softmax_loss_naive(W, X_dev, y_dev, 0.0)\n",
    "\n",
    "# As a rough sanity check, our loss should be something close to -log(0.1).\n",
    "print 'loss: %f' % loss\n",
    "print 'sanity check: %f' % (-np.log(0.1))"
   ]
  },
  {
   "cell_type": "markdown",
   "metadata": {},
   "source": [
    "## Inline Question 1:\n",
    "Why do we expect our loss to be close to -log(0.1)? Explain briefly.**\n",
    "\n",
    "**Your answer:** \n",
    "\n",
    "Cross-entropy loss is defined as - Log(exp(ScoreYi)/Sum j over num of classes exp(Scorej)). If scores are somewhat similar for all classes, then the loss is approximately equal to - Log (1/Num of classes) = - Log(0.1) which can be used as a sanity check.\n"
   ]
  },
  {
   "cell_type": "code",
   "execution_count": 4,
   "metadata": {},
   "outputs": [
    {
     "name": "stdout",
     "output_type": "stream",
     "text": [
      "numerical: -1.325440 analytic: -1.325441, relative error: 2.594852e-08\n",
      "numerical: -1.426017 analytic: -1.426017, relative error: 2.392835e-08\n",
      "numerical: 3.750522 analytic: 3.750522, relative error: 5.101476e-09\n",
      "numerical: 3.372667 analytic: 3.372667, relative error: 1.390601e-08\n",
      "numerical: 3.196223 analytic: 3.196223, relative error: 2.784576e-08\n",
      "numerical: -2.610110 analytic: -2.610110, relative error: 1.128040e-08\n",
      "numerical: -1.023881 analytic: -1.023881, relative error: 6.376068e-09\n",
      "numerical: -0.889901 analytic: -0.889901, relative error: 7.980040e-09\n",
      "numerical: -1.501253 analytic: -1.501253, relative error: 5.230768e-08\n",
      "numerical: -3.613207 analytic: -3.613207, relative error: 9.550325e-09\n",
      "numerical: -3.244097 analytic: -3.244097, relative error: 8.956729e-09\n",
      "numerical: -1.628254 analytic: -1.628254, relative error: 2.724851e-08\n",
      "numerical: 1.435491 analytic: 1.435491, relative error: 4.143191e-08\n",
      "numerical: -1.041195 analytic: -1.041195, relative error: 3.258209e-09\n",
      "numerical: -1.236382 analytic: -1.236382, relative error: 1.944027e-08\n",
      "numerical: -0.930068 analytic: -0.930068, relative error: 4.048757e-09\n",
      "numerical: -1.232176 analytic: -1.232176, relative error: 1.118269e-09\n",
      "numerical: -1.925081 analytic: -1.925081, relative error: 1.948808e-09\n",
      "numerical: -2.164917 analytic: -2.164917, relative error: 4.368691e-10\n",
      "numerical: -1.727312 analytic: -1.727312, relative error: 2.703440e-08\n"
     ]
    }
   ],
   "source": [
    "# Complete the implementation of softmax_loss_naive and implement a (naive)\n",
    "# version of the gradient that uses nested loops.\n",
    "loss, grad = softmax_loss_naive(W, X_dev, y_dev, 0.0)\n",
    "\n",
    "# As we did for the SVM, use numeric gradient checking as a debugging tool.\n",
    "# The numeric gradient should be close to the analytic gradient.\n",
    "from asgn1.gradient_check import grad_check_sparse\n",
    "f = lambda w: softmax_loss_naive(w, X_dev, y_dev, 0.0)[0]\n",
    "grad_numerical = grad_check_sparse(f, W, grad, 10)\n",
    "\n",
    "# similar to SVM case, do another gradient check with regularization\n",
    "loss, grad = softmax_loss_naive(W, X_dev, y_dev, 1e2)\n",
    "f = lambda w: softmax_loss_naive(w, X_dev, y_dev, 1e2)[0]\n",
    "grad_numerical = grad_check_sparse(f, W, grad, 10)"
   ]
  },
  {
   "cell_type": "code",
   "execution_count": 5,
   "metadata": {},
   "outputs": [
    {
     "name": "stdout",
     "output_type": "stream",
     "text": [
      "naive loss: 2.365420e+00 computed in 0.203000s\n",
      "vectorized loss: 2.365420e+00 computed in 0.326000s\n",
      "Loss difference: 0.000000\n",
      "Gradient difference: 0.000000\n"
     ]
    }
   ],
   "source": [
    "# Now that we have a naive implementation of the softmax loss function and its gradient,\n",
    "# implement a vectorized version in softmax_loss_vectorized.\n",
    "# The two versions should compute the same results, but the vectorized version should be\n",
    "# much faster.\n",
    "tic = time.time()\n",
    "loss_naive, grad_naive = softmax_loss_naive(W, X_dev, y_dev, 0.00001)\n",
    "toc = time.time()\n",
    "print 'naive loss: %e computed in %fs' % (loss_naive, toc - tic)\n",
    "\n",
    "from asgn1.classifiers.softmax import softmax_loss_vectorized\n",
    "tic = time.time()\n",
    "loss_vectorized, grad_vectorized = softmax_loss_vectorized(W, X_dev, y_dev, 0.00001)\n",
    "toc = time.time()\n",
    "print 'vectorized loss: %e computed in %fs' % (loss_vectorized, toc - tic)\n",
    "\n",
    "# As we did for the SVM, we use the Frobenius norm to compare the two versions\n",
    "# of the gradient.\n",
    "grad_difference = np.linalg.norm(grad_naive - grad_vectorized, ord='fro')\n",
    "print 'Loss difference: %f' % np.abs(loss_naive - loss_vectorized)\n",
    "print 'Gradient difference: %f' % grad_difference"
   ]
  },
  {
   "cell_type": "code",
   "execution_count": 6,
   "metadata": {},
   "outputs": [
    {
     "name": "stderr",
     "output_type": "stream",
     "text": [
      "asgn1\\classifiers\\softmax.py:101: RuntimeWarning: divide by zero encountered in log\n",
      "  loss = np.sum(-np.log(numerator) + np.log(denominator))*(1.0/N)\n",
      "asgn1\\classifiers\\softmax.py:102: RuntimeWarning: overflow encountered in double_scalars\n",
      "  loss += 0.5 * reg * np.sum(W*W)\n",
      "asgn1\\classifiers\\softmax.py:102: RuntimeWarning: overflow encountered in multiply\n",
      "  loss += 0.5 * reg * np.sum(W*W)\n",
      "asgn1\\classifiers\\softmax.py:107: RuntimeWarning: overflow encountered in multiply\n",
      "  dW += reg * W\n"
     ]
    },
    {
     "name": "stdout",
     "output_type": "stream",
     "text": [
      "lr 1.000000e-08 reg 5.000000e+02 train accuracy: 0.145367 val accuracy: 0.149000\n",
      "lr 1.000000e-08 reg 5.000000e+03 train accuracy: 0.157673 val accuracy: 0.164000\n",
      "lr 1.000000e-08 reg 5.000000e+04 train accuracy: 0.164245 val accuracy: 0.192000\n",
      "lr 1.000000e-08 reg 5.000000e+05 train accuracy: 0.266245 val accuracy: 0.271000\n",
      "lr 1.000000e-08 reg 5.000000e+06 train accuracy: 0.257143 val accuracy: 0.265000\n",
      "lr 1.000000e-07 reg 5.000000e+02 train accuracy: 0.249204 val accuracy: 0.255000\n",
      "lr 1.000000e-07 reg 5.000000e+03 train accuracy: 0.291612 val accuracy: 0.294000\n",
      "lr 1.000000e-07 reg 5.000000e+04 train accuracy: 0.335184 val accuracy: 0.352000\n",
      "lr 1.000000e-07 reg 5.000000e+05 train accuracy: 0.258857 val accuracy: 0.272000\n",
      "lr 1.000000e-07 reg 5.000000e+06 train accuracy: 0.240367 val accuracy: 0.246000\n",
      "lr 3.000000e-07 reg 5.000000e+02 train accuracy: 0.307673 val accuracy: 0.321000\n",
      "lr 3.000000e-07 reg 5.000000e+03 train accuracy: 0.380633 val accuracy: 0.391000\n",
      "lr 3.000000e-07 reg 5.000000e+04 train accuracy: 0.322531 val accuracy: 0.345000\n",
      "lr 3.000000e-07 reg 5.000000e+05 train accuracy: 0.273469 val accuracy: 0.285000\n",
      "lr 3.000000e-07 reg 5.000000e+06 train accuracy: 0.212755 val accuracy: 0.203000\n",
      "lr 5.000000e-07 reg 5.000000e+02 train accuracy: 0.344265 val accuracy: 0.341000\n",
      "lr 5.000000e-07 reg 5.000000e+03 train accuracy: 0.383714 val accuracy: 0.390000\n",
      "lr 5.000000e-07 reg 5.000000e+04 train accuracy: 0.321245 val accuracy: 0.328000\n",
      "lr 5.000000e-07 reg 5.000000e+05 train accuracy: 0.255816 val accuracy: 0.266000\n",
      "lr 5.000000e-07 reg 5.000000e+06 train accuracy: 0.104000 val accuracy: 0.112000\n",
      "lr 1.000000e-06 reg 5.000000e+02 train accuracy: 0.385367 val accuracy: 0.389000\n",
      "lr 1.000000e-06 reg 5.000000e+03 train accuracy: 0.386347 val accuracy: 0.398000\n",
      "lr 1.000000e-06 reg 5.000000e+04 train accuracy: 0.313633 val accuracy: 0.318000\n",
      "lr 1.000000e-06 reg 5.000000e+05 train accuracy: 0.249286 val accuracy: 0.252000\n",
      "lr 1.000000e-06 reg 5.000000e+06 train accuracy: 0.100265 val accuracy: 0.087000\n",
      "best validation accuracy achieved during cross-validation: 0.398000\n"
     ]
    }
   ],
   "source": [
    "# Use the validation set to tune hyperparameters (regularization strength and\n",
    "# learning rate). You should experiment with different ranges for the learning\n",
    "# rates and regularization strengths; if you are careful you should be able to\n",
    "# get a classification accuracy of over 0.35 on the validation set.\n",
    "from asgn1.classifiers import Softmax\n",
    "results = {}\n",
    "best_val = -1\n",
    "best_softmax = None\n",
    "#learning_rates = [1e-7, 5e-7]\n",
    "#regularization_strengths = [5e4, 1e8]\n",
    "learning_rates = [1e-8,1e-7,3e-7,5e-7,1e-6]\n",
    "regularization_strengths = [5e2,5e3,5e4,5e5,5e6]\n",
    "\n",
    "################################################################################\n",
    "# TODO:                                                                        #\n",
    "# Use the validation set to set the learning rate and regularization strength. #\n",
    "# This should be identical to the validation that you did for the SVM; save    #\n",
    "# the best trained softmax classifer in best_softmax.                          #\n",
    "################################################################################\n",
    "itersnum = 1500\n",
    "for i in range(len(learning_rates)):\n",
    "    lr = learning_rates[i]\n",
    "    for j in range(len(regularization_strengths)):\n",
    "        rs = regularization_strengths[j]\n",
    "        mysoftmax = Softmax()\n",
    "        mysoftmax.train(X_train, y_train, learning_rate=lr, reg=rs,num_iters=itersnum, verbose=False)\n",
    "        tr_y_pred = mysoftmax.predict(X_train)\n",
    "        val_y_pred = mysoftmax.predict(X_val)\n",
    "        tr_accuracy = np.mean(y_train == tr_y_pred)\n",
    "        val_accuracy = np.mean(y_val == val_y_pred)\n",
    "        if val_accuracy > best_val:\n",
    "            best_val = val_accuracy\n",
    "            best_softmax = mysoftmax\n",
    "        #print lr,rs,tr_accuracy,val_accuracy\n",
    "        results[(lr,rs)] = (tr_accuracy,val_accuracy)\n",
    "#pass\n",
    "################################################################################\n",
    "#                              END OF YOUR CODE                                #\n",
    "################################################################################\n",
    "    \n",
    "# Print out results.\n",
    "for lr, reg in sorted(results):\n",
    "    train_accuracy, val_accuracy = results[(lr, reg)]\n",
    "    print 'lr %e reg %e train accuracy: %f val accuracy: %f' % (\n",
    "                lr, reg, train_accuracy, val_accuracy)\n",
    "    \n",
    "print 'best validation accuracy achieved during cross-validation: %f' % best_val"
   ]
  },
  {
   "cell_type": "code",
   "execution_count": 7,
   "metadata": {},
   "outputs": [
    {
     "name": "stdout",
     "output_type": "stream",
     "text": [
      "softmax on raw pixels final test set accuracy: 0.369000\n"
     ]
    }
   ],
   "source": [
    "# evaluate on test set\n",
    "# Evaluate the best softmax on test set\n",
    "y_test_pred = best_softmax.predict(X_test)\n",
    "test_accuracy = np.mean(y_test == y_test_pred)\n",
    "print 'softmax on raw pixels final test set accuracy: %f' % (test_accuracy, )"
   ]
  },
  {
   "cell_type": "code",
   "execution_count": 8,
   "metadata": {},
   "outputs": [
    {
     "data": {
      "image/png": "[encoded data removed]",
      "text/plain": [
       "<matplotlib.figure.Figure at 0x5afcfd0>"
      ]
     },
     "metadata": {},
     "output_type": "display_data"
    }
   ],
   "source": [
    "# Visualize the learned weights for each class\n",
    "w = best_softmax.W[:-1,:] # strip out the bias\n",
    "w = w.reshape(32, 32, 3, 10)\n",
    "\n",
    "w_min, w_max = np.min(w), np.max(w)\n",
    "\n",
    "classes = ['plane', 'car', 'bird', 'cat', 'deer', 'dog', 'frog', 'horse', 'ship', 'truck']\n",
    "for i in xrange(10):\n",
    "  plt.subplot(2, 5, i + 1)\n",
    "  \n",
    "  # Rescale the weights to be between 0 and 255\n",
    "  wimg = 255.0 * (w[:, :, :, i].squeeze() - w_min) / (w_max - w_min)\n",
    "  plt.imshow(wimg.astype('uint8'))\n",
    "  plt.axis('off')\n",
    "  plt.title(classes[i])"
   ]
  },
  {
   "cell_type": "code",
   "execution_count": null,
   "metadata": {
    "collapsed": true
   },
   "outputs": [],
   "source": []
  }
 ],
 "metadata": {
  "kernelspec": {
   "display_name": "Python 2",
   "language": "python",
   "name": "python2"
  },
  "language_info": {
   "codemirror_mode": {
    "name": "ipython",
    "version": 2
   },
   "file_extension": ".py",
   "mimetype": "text/x-python",
   "name": "python",
   "nbconvert_exporter": "python",
   "pygments_lexer": "ipython2",
   "version": "2.7.13"
  }
 },
 "nbformat": 4,
 "nbformat_minor": 1
}
